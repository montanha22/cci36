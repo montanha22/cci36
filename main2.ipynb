{
 "cells": [
  {
   "cell_type": "code",
   "execution_count": 6,
   "source": [
    "import numpy as np\r\n",
    "import pandas as pd\r\n",
    "from scipy.linalg import null_space, svd"
   ],
   "outputs": [],
   "metadata": {}
  },
  {
   "cell_type": "code",
   "execution_count": 7,
   "source": [
    "coords = pd.read_csv('coords.csv')[['X','Y','Z','x', 'y']]\r\n",
    "coords = coords.head(6).values\r\n",
    "coords"
   ],
   "outputs": [
    {
     "output_type": "execute_result",
     "data": {
      "text/plain": [
       "array([[   0,    0,    0,  860,  833],\n",
       "       [   0,    0,    1,  592,  712],\n",
       "       [   1,    0,    0, 1157,  765],\n",
       "       [   0,    1,    0,  844, 1196],\n",
       "       [   0,    1,    1,  581, 1060],\n",
       "       [   1,    1,    0, 1137, 1128]], dtype=int64)"
      ]
     },
     "metadata": {},
     "execution_count": 7
    }
   ],
   "metadata": {}
  },
  {
   "cell_type": "code",
   "execution_count": 8,
   "source": [
    "a=[]\r\n",
    "for i in range(coords.shape[0]): # para cada ponto e correspondente 3D\r\n",
    "  x,y,z,u,v = coords[i,:]\r\n",
    "  a.append([x,y,z,1,0,0,0,0,-u*x,-u*y,-u*z,-u])\r\n",
    "  a.append([0,0,0,0,x,y,z,1,-v*x,-v*y,-v*z,-v])"
   ],
   "outputs": [],
   "metadata": {}
  },
  {
   "cell_type": "code",
   "execution_count": 9,
   "source": [
    "a=np.array(a)\r\n",
    "U, s, Vh = svd(a)\r\n",
    "nm = Vh[-1,:]\r\n",
    "nm /= nm [-1]\r\n",
    "nm = nm.reshape((3,4))"
   ],
   "outputs": [],
   "metadata": {}
  },
  {
   "cell_type": "code",
   "execution_count": 12,
   "source": [
    "M = nm\r\n",
    "M"
   ],
   "outputs": [
    {
     "output_type": "execute_result",
     "data": {
      "text/plain": [
       "array([[ 3.00591922e+02, -2.80010999e+00, -2.38696328e+02,\n",
       "         8.59856664e+02],\n",
       "       [-6.57554125e+01,  3.81311094e+02, -8.60098875e+01,\n",
       "         8.32993864e+02],\n",
       "       [ 2.92108371e-03,  1.52999880e-02,  4.91315245e-02,\n",
       "         1.00000000e+00]])"
      ]
     },
     "metadata": {},
     "execution_count": 12
    }
   ],
   "metadata": {}
  },
  {
   "cell_type": "code",
   "execution_count": 13,
   "source": [
    "result = np.vstack([M, [0, 0, 0,1]])"
   ],
   "outputs": [],
   "metadata": {}
  },
  {
   "cell_type": "code",
   "execution_count": 14,
   "source": [
    "result.reshape(-1)"
   ],
   "outputs": [
    {
     "output_type": "execute_result",
     "data": {
      "text/plain": [
       "array([ 3.00591922e+02, -2.80010999e+00, -2.38696328e+02,  8.59856664e+02,\n",
       "       -6.57554125e+01,  3.81311094e+02, -8.60098875e+01,  8.32993864e+02,\n",
       "        2.92108371e-03,  1.52999880e-02,  4.91315245e-02,  1.00000000e+00,\n",
       "        0.00000000e+00,  0.00000000e+00,  0.00000000e+00,  1.00000000e+00])"
      ]
     },
     "metadata": {},
     "execution_count": 14
    }
   ],
   "metadata": {}
  },
  {
   "cell_type": "code",
   "execution_count": null,
   "source": [
    "np.array([\r\n",
    "      [\r\n",
    "        0.676717630859556,\r\n",
    "        -0.7260889299729478,\r\n",
    "        0.12185283687534432,\r\n",
    "        -1.7413690456865782\r\n",
    "      ],\r\n",
    "      [\r\n",
    "        0.2016652661093843,\r\n",
    "        0.34198087240239494,\r\n",
    "        0.9178127278241068,\r\n",
    "        0.9275570864952053\r\n",
    "      ],\r\n",
    "      [\r\n",
    "        -0.7080850009206952,\r\n",
    "        -0.5965265699712264,\r\n",
    "        0.37785140305350545,\r\n",
    "        -10\r\n",
    "      ],\r\n",
    "      [\r\n",
    "        0,\r\n",
    "        0,\r\n",
    "        0,\r\n",
    "        1\r\n",
    "      ]\r\n",
    "    ]\r\n",
    "    ).T.reshape(-1)"
   ],
   "outputs": [],
   "metadata": {}
  },
  {
   "cell_type": "code",
   "execution_count": null,
   "source": [
    "M@np.array([[2, 1, 1, 1]]).T"
   ],
   "outputs": [],
   "metadata": {}
  },
  {
   "cell_type": "code",
   "execution_count": 15,
   "source": [
    "q1 = M[0, :3].T\r\n",
    "q2 = M[1, :3].T\r\n",
    "q3 = M[2, :3].T\r\n",
    "q4 = M[:3, 3]"
   ],
   "outputs": [],
   "metadata": {}
  },
  {
   "cell_type": "code",
   "execution_count": 16,
   "source": [
    "Ox = (q1.T @ q3)\r\n",
    "Oy = (q2.T @ q3)\r\n",
    "Ox, Oy"
   ],
   "outputs": [
    {
     "output_type": "execute_result",
     "data": {
      "text/plain": [
       "(-10.892301949107086, 1.4161811983538963)"
      ]
     },
     "metadata": {},
     "execution_count": 16
    }
   ],
   "metadata": {}
  },
  {
   "cell_type": "code",
   "execution_count": 17,
   "source": [
    "fx = ((q1.T@q1) - Ox**2)** (1/2)\r\n",
    "fy = ((q2.T@q2) - Oy**2) ** (1/2)\r\n",
    "\r\n",
    "fx, fy"
   ],
   "outputs": [
    {
     "output_type": "execute_result",
     "data": {
      "text/plain": [
       "(383.6934180797739, 396.3806498391522)"
      ]
     },
     "metadata": {},
     "execution_count": 17
    }
   ],
   "metadata": {}
  },
  {
   "cell_type": "code",
   "execution_count": 18,
   "source": [
    "cm = np.zeros((3,4))"
   ],
   "outputs": [],
   "metadata": {}
  },
  {
   "cell_type": "code",
   "execution_count": 19,
   "source": [
    "cm[2, :] = M[2, :]\r\n",
    "cm[0, 0] = (Ox * M[2,0] - M[0,0]) / fx\r\n",
    "cm[0, 1] = (Ox * M[2,1] - M[0,1]) / fx\r\n",
    "cm[0, 2] = (Ox * M[2,2] - M[0,2]) / fx\r\n",
    "cm[1, 0] = (Oy * M[2,0] - M[1,0]) / fy\r\n",
    "cm[1, 1] = (Oy * M[2,1] - M[1,1]) / fy\r\n",
    "cm[1, 2] = (Oy * M[2,2] - M[1,2]) / fy\r\n",
    "\r\n",
    "cm[0, 3] = (Ox * M[2,3] - M[0,3]) / fx\r\n",
    "cm[1, 3] = (Oy * M[2,3] - M[1,3]) / fy\r\n"
   ],
   "outputs": [],
   "metadata": {}
  },
  {
   "cell_type": "code",
   "execution_count": 22,
   "source": [
    "cam_matrix = np.vstack([-cm, np.array([0, 0, 0, 1])])\r\n",
    "np.array(cam_matrix).reshape(-1)"
   ],
   "outputs": [
    {
     "output_type": "execute_result",
     "data": {
      "text/plain": [
       "array([ 0.78349986, -0.00686344, -0.62070695,  2.26938729, -0.1659    ,\n",
       "        0.96192745, -0.21716364,  2.09792704, -0.00292108, -0.01529999,\n",
       "       -0.04913152, -1.        ,  0.        ,  0.        ,  0.        ,\n",
       "        1.        ])"
      ]
     },
     "metadata": {},
     "execution_count": 22
    }
   ],
   "metadata": {}
  },
  {
   "cell_type": "code",
   "execution_count": null,
   "source": [],
   "outputs": [],
   "metadata": {}
  }
 ],
 "metadata": {
  "orig_nbformat": 4,
  "language_info": {
   "name": "python",
   "version": "3.8.8",
   "mimetype": "text/x-python",
   "codemirror_mode": {
    "name": "ipython",
    "version": 3
   },
   "pygments_lexer": "ipython3",
   "nbconvert_exporter": "python",
   "file_extension": ".py"
  },
  "kernelspec": {
   "name": "python3",
   "display_name": "Python 3.8.8 64-bit"
  },
  "interpreter": {
   "hash": "aa8e4de9f4426ab75fdef01f3d7947e2b3e9cfbdb80ba65115d4f20988c8517e"
  }
 },
 "nbformat": 4,
 "nbformat_minor": 2
}