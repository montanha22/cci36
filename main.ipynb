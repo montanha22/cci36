{
 "cells": [
  {
   "cell_type": "code",
   "execution_count": 21,
   "source": [
    "import numpy as np\r\n",
    "import pandas as pd"
   ],
   "outputs": [],
   "metadata": {}
  },
  {
   "cell_type": "code",
   "execution_count": 22,
   "source": [
    "coords = pd.read_csv('coords.csv')\r\n",
    "# coords['x'] = coords['x']/2048\r\n",
    "# coords['y'] = coords['y']/1360\r\n",
    "\r\n",
    "coords"
   ],
   "outputs": [
    {
     "output_type": "execute_result",
     "data": {
      "text/html": [
       "<div>\n",
       "<style scoped>\n",
       "    .dataframe tbody tr th:only-of-type {\n",
       "        vertical-align: middle;\n",
       "    }\n",
       "\n",
       "    .dataframe tbody tr th {\n",
       "        vertical-align: top;\n",
       "    }\n",
       "\n",
       "    .dataframe thead th {\n",
       "        text-align: right;\n",
       "    }\n",
       "</style>\n",
       "<table border=\"1\" class=\"dataframe\">\n",
       "  <thead>\n",
       "    <tr style=\"text-align: right;\">\n",
       "      <th></th>\n",
       "      <th>ponto</th>\n",
       "      <th>x</th>\n",
       "      <th>y</th>\n",
       "      <th>X</th>\n",
       "      <th>Y</th>\n",
       "      <th>Z</th>\n",
       "    </tr>\n",
       "  </thead>\n",
       "  <tbody>\n",
       "    <tr>\n",
       "      <th>0</th>\n",
       "      <td>1</td>\n",
       "      <td>860</td>\n",
       "      <td>833</td>\n",
       "      <td>0</td>\n",
       "      <td>0</td>\n",
       "      <td>0</td>\n",
       "    </tr>\n",
       "    <tr>\n",
       "      <th>1</th>\n",
       "      <td>2</td>\n",
       "      <td>592</td>\n",
       "      <td>712</td>\n",
       "      <td>0</td>\n",
       "      <td>0</td>\n",
       "      <td>1</td>\n",
       "    </tr>\n",
       "    <tr>\n",
       "      <th>2</th>\n",
       "      <td>3</td>\n",
       "      <td>1157</td>\n",
       "      <td>765</td>\n",
       "      <td>1</td>\n",
       "      <td>0</td>\n",
       "      <td>0</td>\n",
       "    </tr>\n",
       "    <tr>\n",
       "      <th>3</th>\n",
       "      <td>4</td>\n",
       "      <td>844</td>\n",
       "      <td>1196</td>\n",
       "      <td>0</td>\n",
       "      <td>1</td>\n",
       "      <td>0</td>\n",
       "    </tr>\n",
       "    <tr>\n",
       "      <th>4</th>\n",
       "      <td>5</td>\n",
       "      <td>581</td>\n",
       "      <td>1060</td>\n",
       "      <td>0</td>\n",
       "      <td>1</td>\n",
       "      <td>1</td>\n",
       "    </tr>\n",
       "    <tr>\n",
       "      <th>5</th>\n",
       "      <td>6</td>\n",
       "      <td>1137</td>\n",
       "      <td>1128</td>\n",
       "      <td>1</td>\n",
       "      <td>1</td>\n",
       "      <td>0</td>\n",
       "    </tr>\n",
       "    <tr>\n",
       "      <th>6</th>\n",
       "      <td>7</td>\n",
       "      <td>832</td>\n",
       "      <td>658</td>\n",
       "      <td>1</td>\n",
       "      <td>0</td>\n",
       "      <td>1</td>\n",
       "    </tr>\n",
       "    <tr>\n",
       "      <th>7</th>\n",
       "      <td>8</td>\n",
       "      <td>804</td>\n",
       "      <td>1015</td>\n",
       "      <td>1</td>\n",
       "      <td>1</td>\n",
       "      <td>1</td>\n",
       "    </tr>\n",
       "    <tr>\n",
       "      <th>8</th>\n",
       "      <td>9</td>\n",
       "      <td>347</td>\n",
       "      <td>601</td>\n",
       "      <td>0</td>\n",
       "      <td>0</td>\n",
       "      <td>2</td>\n",
       "    </tr>\n",
       "  </tbody>\n",
       "</table>\n",
       "</div>"
      ],
      "text/plain": [
       "   ponto     x     y  X  Y  Z\n",
       "0      1   860   833  0  0  0\n",
       "1      2   592   712  0  0  1\n",
       "2      3  1157   765  1  0  0\n",
       "3      4   844  1196  0  1  0\n",
       "4      5   581  1060  0  1  1\n",
       "5      6  1137  1128  1  1  0\n",
       "6      7   832   658  1  0  1\n",
       "7      8   804  1015  1  1  1\n",
       "8      9   347   601  0  0  2"
      ]
     },
     "metadata": {},
     "execution_count": 22
    }
   ],
   "metadata": {}
  },
  {
   "cell_type": "code",
   "execution_count": 24,
   "source": [
    "pixels_coords = np.matrix(coords[['x','y']].values).T\r\n",
    "pixels_coords_hom = np.vstack([pixels_coords, np.ones((1,len(coords)), int)])\r\n",
    "pixels_coords_hom"
   ],
   "outputs": [
    {
     "output_type": "execute_result",
     "data": {
      "text/plain": [
       "matrix([[ 860,  592, 1157,  844,  581, 1137,  832,  804,  347],\n",
       "        [ 833,  712,  765, 1196, 1060, 1128,  658, 1015,  601],\n",
       "        [   1,    1,    1,    1,    1,    1,    1,    1,    1]],\n",
       "       dtype=int64)"
      ]
     },
     "metadata": {},
     "execution_count": 24
    }
   ],
   "metadata": {}
  },
  {
   "cell_type": "code",
   "execution_count": 25,
   "source": [
    "real_coords = np.matrix(coords[['X','Y','Z']].values).T\r\n",
    "real_coords_hom = np.vstack([real_coords, np.ones((1,len(coords)), int)])\r\n",
    "real_coords_hom"
   ],
   "outputs": [
    {
     "output_type": "execute_result",
     "data": {
      "text/plain": [
       "matrix([[0, 0, 1, 0, 0, 1, 1, 1, 0],\n",
       "        [0, 0, 0, 1, 1, 1, 0, 1, 0],\n",
       "        [0, 1, 0, 0, 1, 0, 1, 1, 2],\n",
       "        [1, 1, 1, 1, 1, 1, 1, 1, 1]], dtype=int64)"
      ]
     },
     "metadata": {},
     "execution_count": 25
    }
   ],
   "metadata": {}
  },
  {
   "cell_type": "code",
   "execution_count": 26,
   "source": [
    "rows = []\r\n",
    "x = []\r\n",
    "for i, (real_c, img_c) in enumerate(zip(real_coords_hom.T, pixels_coords_hom.T)):\r\n",
    "    rows.append(np.concatenate([\r\n",
    "        real_c, \r\n",
    "        np.array([[0,0,0,0]]),\r\n",
    "        -img_c[0,0] * real_c\r\n",
    "        ] , axis = 1))\r\n",
    "    rows.append(np.concatenate([\r\n",
    "        np.array([[0,0,0,0]]),\r\n",
    "        real_c, \r\n",
    "        -img_c[0,1] * real_c\r\n",
    "        ] , axis = 1))\r\n",
    "    x.append(img_c[0,0])\r\n",
    "    x.append(img_c[0,1])\r\n",
    "    print(img_c[0,0], img_c[0,1])"
   ],
   "outputs": [
    {
     "output_type": "stream",
     "name": "stdout",
     "text": [
      "860 833\n",
      "592 712\n",
      "1157 765\n",
      "844 1196\n",
      "581 1060\n",
      "1137 1128\n",
      "832 658\n",
      "804 1015\n",
      "347 601\n"
     ]
    }
   ],
   "metadata": {}
  },
  {
   "cell_type": "code",
   "execution_count": 32,
   "source": [
    "A = np.concatenate(rows)"
   ],
   "outputs": [],
   "metadata": {}
  },
  {
   "cell_type": "code",
   "execution_count": 36,
   "source": [
    "svd(A)[2][-1,:]"
   ],
   "outputs": [
    {
     "output_type": "execute_result",
     "data": {
      "text/plain": [
       "array([-1.63046237e-01,  1.34910251e-02,  1.86032745e-01, -6.66868143e-01,\n",
       "        8.38350331e-02, -2.79157052e-01,  5.58468127e-02, -6.37052732e-01,\n",
       "        4.43628497e-05, -2.18505110e-06, -4.63592915e-05, -7.67109901e-04])"
      ]
     },
     "metadata": {},
     "execution_count": 36
    }
   ],
   "metadata": {}
  },
  {
   "cell_type": "code",
   "execution_count": 28,
   "source": [
    "def solution(U):\r\n",
    "    # find the eigenvalues and eigenvector of U(transpose).U\r\n",
    "    e_vals, e_vecs = np.linalg.eig(np.dot(U.T, U))  \r\n",
    "    # extract the eigenvector (column) associated with the minimum eigenvalue\r\n",
    "    return e_vecs[:, np.argmin(e_vals)] "
   ],
   "outputs": [],
   "metadata": {}
  },
  {
   "cell_type": "code",
   "execution_count": 37,
   "source": [
    "A.shape"
   ],
   "outputs": [
    {
     "output_type": "execute_result",
     "data": {
      "text/plain": [
       "(18, 12)"
      ]
     },
     "metadata": {},
     "execution_count": 37
    }
   ],
   "metadata": {}
  },
  {
   "cell_type": "code",
   "execution_count": 38,
   "source": [
    "M = np.concatenate( [np.linalg.solve(A[:11, :11], x[:11]), np.array([1])] ).reshape(3,4)\r\n",
    "lbd = np.sqrt(sum(np.array(M[2,:3]).reshape(-1) ** 2))\r\n",
    "M= M/abs(lbd)\r\n",
    "M= np.matrix(M)"
   ],
   "outputs": [],
   "metadata": {}
  },
  {
   "cell_type": "code",
   "execution_count": 43,
   "source": [
    "M/M[2,3]"
   ],
   "outputs": [
    {
     "output_type": "execute_result",
     "data": {
      "text/plain": [
       "matrix([[ 3.52595579e+02, -1.70952483e+00, -2.38565470e+02,\n",
       "          8.60000000e+02],\n",
       "        [-3.12406069e+01,  3.83250484e+02, -8.55990110e+01,\n",
       "          8.33000000e+02],\n",
       "        [ 4.80514943e-02,  1.69318426e-02,  4.97204902e-02,\n",
       "          1.00000000e+00]])"
      ]
     },
     "metadata": {},
     "execution_count": 43
    }
   ],
   "metadata": {}
  },
  {
   "cell_type": "code",
   "execution_count": 39,
   "source": [
    "- M[:,:3]**-1 @ M[:, 3]"
   ],
   "outputs": [
    {
     "output_type": "execute_result",
     "data": {
      "text/plain": [
       "matrix([[-9.01126652],\n",
       "        [-5.06948756],\n",
       "        [-9.67728617]])"
      ]
     },
     "metadata": {},
     "execution_count": 39
    }
   ],
   "metadata": {}
  },
  {
   "cell_type": "code",
   "execution_count": 40,
   "source": [
    "q1 = M[0, :3].T\r\n",
    "q2 = M[1, :3].T\r\n",
    "q3 = M[2, :3].T\r\n",
    "q4 = M[:3, 3]"
   ],
   "outputs": [],
   "metadata": {}
  },
  {
   "cell_type": "code",
   "execution_count": 12,
   "source": [
    "Ox = (q1.T @ q3)[0, 0]\r\n",
    "Oy = (q2.T @ q3)[0, 0]\r\n"
   ],
   "outputs": [],
   "metadata": {}
  },
  {
   "cell_type": "code",
   "execution_count": 44,
   "source": [
    "Ox, Oy"
   ],
   "outputs": [
    {
     "output_type": "execute_result",
     "data": {
      "text/plain": [
       "(996.9308715878755, 144.43347048187977)"
      ]
     },
     "metadata": {},
     "execution_count": 44
    }
   ],
   "metadata": {}
  },
  {
   "cell_type": "code",
   "execution_count": 14,
   "source": [
    "# ABS é gambi\r\n",
    "fx = ((q1.T@q1)[0,0] - Ox**2)** (1/2)\r\n",
    "fy = ((q2.T@q2)[0, 0] - Oy**2) ** (1/2)\r\n",
    "\r\n",
    "fx, fy"
   ],
   "outputs": [
    {
     "output_type": "execute_result",
     "data": {
      "text/plain": [
       "(5896.564233186125, 5531.814213519195)"
      ]
     },
     "metadata": {},
     "execution_count": 14
    }
   ],
   "metadata": {}
  },
  {
   "cell_type": "code",
   "execution_count": 15,
   "source": [
    "cm = np.zeros((3,4))"
   ],
   "outputs": [],
   "metadata": {}
  },
  {
   "cell_type": "code",
   "execution_count": 16,
   "source": [
    "cm[2, :] = M[2, :]\r\n",
    "cm[0, 0] = (Ox * M[2,0] - M[0,0]) / fx\r\n",
    "cm[0, 1] = (Ox * M[2,1] - M[0,1]) / fx\r\n",
    "cm[0, 2] = (Ox * M[2,2] - M[0,2]) / fx\r\n",
    "cm[1, 0] = (Oy * M[2,0] - M[1,0]) / fy\r\n",
    "cm[1, 1] = (Oy * M[2,1] - M[1,1]) / fy\r\n",
    "cm[1, 2] = (Oy * M[2,2] - M[1,2]) / fy\r\n",
    "\r\n",
    "cm[0, 3] = (Ox * M[2,3] - M[0,3]) / fx\r\n",
    "cm[1, 3] = (Oy * M[2,3] - M[1,3]) / fy\r\n"
   ],
   "outputs": [],
   "metadata": {}
  },
  {
   "cell_type": "code",
   "execution_count": 17,
   "source": [
    "cm"
   ],
   "outputs": [
    {
     "output_type": "execute_result",
     "data": {
      "text/plain": [
       "array([[-0.72586081, -0.04428517,  0.68641453,  0.32620777],\n",
       "       [ 0.09695495,  0.9670011 ,  0.23560267, -1.74851869],\n",
       "       [ 0.67499236, -0.23784618,  0.69843719, 14.04727087]])"
      ]
     },
     "metadata": {},
     "execution_count": 17
    }
   ],
   "metadata": {}
  },
  {
   "cell_type": "code",
   "execution_count": 18,
   "source": [
    "cam_matrix = np.vstack([-cm, np.array([0, 0, 0, 1])])"
   ],
   "outputs": [],
   "metadata": {}
  },
  {
   "cell_type": "code",
   "execution_count": 20,
   "source": [
    "np.array(cam_matrix).T.reshape(-1)"
   ],
   "outputs": [
    {
     "output_type": "execute_result",
     "data": {
      "text/plain": [
       "array([  0.72586081,  -0.09695495,  -0.67499236,   0.        ,\n",
       "         0.04428517,  -0.9670011 ,   0.23784618,   0.        ,\n",
       "        -0.68641453,  -0.23560267,  -0.69843719,   0.        ,\n",
       "        -0.32620777,   1.74851869, -14.04727087,   1.        ])"
      ]
     },
     "metadata": {},
     "execution_count": 20
    }
   ],
   "metadata": {}
  },
  {
   "cell_type": "code",
   "execution_count": null,
   "source": [],
   "outputs": [],
   "metadata": {}
  },
  {
   "cell_type": "code",
   "execution_count": null,
   "source": [],
   "outputs": [],
   "metadata": {}
  },
  {
   "cell_type": "code",
   "execution_count": null,
   "source": [],
   "outputs": [],
   "metadata": {}
  },
  {
   "cell_type": "code",
   "execution_count": null,
   "source": [],
   "outputs": [],
   "metadata": {}
  },
  {
   "cell_type": "code",
   "execution_count": null,
   "source": [],
   "outputs": [],
   "metadata": {}
  },
  {
   "cell_type": "code",
   "execution_count": null,
   "source": [],
   "outputs": [],
   "metadata": {}
  },
  {
   "cell_type": "code",
   "execution_count": null,
   "source": [],
   "outputs": [],
   "metadata": {}
  },
  {
   "cell_type": "code",
   "execution_count": null,
   "source": [],
   "outputs": [],
   "metadata": {}
  },
  {
   "cell_type": "code",
   "execution_count": null,
   "source": [],
   "outputs": [],
   "metadata": {}
  }
 ],
 "metadata": {
  "orig_nbformat": 4,
  "language_info": {
   "name": "python",
   "version": "3.8.8",
   "mimetype": "text/x-python",
   "codemirror_mode": {
    "name": "ipython",
    "version": 3
   },
   "pygments_lexer": "ipython3",
   "nbconvert_exporter": "python",
   "file_extension": ".py"
  },
  "kernelspec": {
   "name": "python3",
   "display_name": "Python 3.8.8 64-bit"
  },
  "interpreter": {
   "hash": "aa8e4de9f4426ab75fdef01f3d7947e2b3e9cfbdb80ba65115d4f20988c8517e"
  }
 },
 "nbformat": 4,
 "nbformat_minor": 2
}